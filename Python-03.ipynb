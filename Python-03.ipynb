{
 "cells": [
  {
   "cell_type": "markdown",
   "id": "bfde4514-0b83-4a36-aaa3-be5817be8162",
   "metadata": {},
   "source": [
    "# Instrucciones de control\n",
    "\n",
    "Nos permiten controlar el flujo de ejecución de nuestros programas"
   ]
  },
  {
   "cell_type": "markdown",
   "id": "d7e16cfe-4309-4e20-b0f5-35b401c3bf0d",
   "metadata": {},
   "source": [
    "## Instrucciones condicionales\n",
    "\n",
    "Forma general:\n",
    "```\n",
    "if expr:\n",
    "    instr...\n",
    "elif expr:\n",
    "    instr...\n",
    "elif expr:\n",
    "    instr...\n",
    "else:\n",
    "    instr...\n",
    "```"
   ]
  },
  {
   "cell_type": "code",
   "execution_count": 3,
   "id": "779c66ea-4286-41b8-9b2f-2c11031b1203",
   "metadata": {},
   "outputs": [
    {
     "name": "stdout",
     "output_type": "stream",
     "text": [
      "si\n"
     ]
    }
   ],
   "source": [
    "if True:\n",
    "    print(\"si\")"
   ]
  },
  {
   "cell_type": "code",
   "execution_count": 9,
   "id": "b636460c-86d2-4491-9816-a4bbb8d69b98",
   "metadata": {},
   "outputs": [],
   "source": [
    "if False:\n",
    "    print(\"no\")"
   ]
  },
  {
   "cell_type": "code",
   "execution_count": 13,
   "id": "ef7a96d0-99bc-4a52-9dd1-51cf7cb8efe3",
   "metadata": {},
   "outputs": [
    {
     "name": "stdout",
     "output_type": "stream",
     "text": [
      "talvez\n"
     ]
    }
   ],
   "source": [
    "if False:\n",
    "    print(\"no\")\n",
    "else:\n",
    "    print(\"talvez\")"
   ]
  },
  {
   "cell_type": "code",
   "execution_count": 27,
   "id": "378f4b09-68d5-48bf-9f68-791c568430fc",
   "metadata": {},
   "outputs": [
    {
     "name": "stdout",
     "output_type": "stream",
     "text": [
      "3\n"
     ]
    }
   ],
   "source": [
    "x = 5\n",
    "if x < 2:\n",
    "    y = 1\n",
    "elif x < 4:\n",
    "    y = 2\n",
    "elif x < 6:\n",
    "    y = 3\n",
    "else:\n",
    "    y = -1\n",
    "\n",
    "print(y)"
   ]
  },
  {
   "cell_type": "markdown",
   "id": "a5459fc4-fbd6-4b50-8898-2f3b0154629b",
   "metadata": {},
   "source": [
    "## Loops\n",
    "\n",
    "Forma general:\n",
    "\n",
    "```\n",
    "while expr:\n",
    "    instr...\n",
    "else:\n",
    "    instr...\n",
    "```"
   ]
  },
  {
   "cell_type": "code",
   "execution_count": 28,
   "id": "6e4de93f-4c41-41b9-8327-1f4f9e0a30f3",
   "metadata": {},
   "outputs": [
    {
     "name": "stdout",
     "output_type": "stream",
     "text": [
      "0 es menor a 10\n",
      "1 es menor a 10\n",
      "2 es menor a 10\n",
      "3 es menor a 10\n",
      "4 es menor a 10\n",
      "5 es menor a 10\n",
      "6 es menor a 10\n",
      "7 es menor a 10\n",
      "8 es menor a 10\n",
      "9 es menor a 10\n"
     ]
    }
   ],
   "source": [
    "x = 0\n",
    "while x < 10:\n",
    "    print(f\"{x} es menor a 10\")\n",
    "    x += 1"
   ]
  },
  {
   "cell_type": "code",
   "execution_count": 29,
   "id": "9401e7f5-5175-4c43-bb03-d55a091e1d68",
   "metadata": {},
   "outputs": [
    {
     "name": "stdout",
     "output_type": "stream",
     "text": [
      "0 es menor a 10\n",
      "1 es menor a 10\n",
      "2 es menor a 10\n",
      "3 es menor a 10\n",
      "4 es menor a 10\n",
      "5 es menor a 10\n",
      "6 es menor a 10\n",
      "7 es menor a 10\n",
      "8 es menor a 10\n",
      "9 es menor a 10\n"
     ]
    }
   ],
   "source": [
    "x = 0\n",
    "while True:\n",
    "    print(f\"{x} es menor a 10\")\n",
    "    x += 1\n",
    "    if x >= 10:\n",
    "        break"
   ]
  },
  {
   "cell_type": "code",
   "execution_count": 30,
   "id": "495f340a-60d3-4be6-b047-52c8683ed4c4",
   "metadata": {},
   "outputs": [
    {
     "name": "stdout",
     "output_type": "stream",
     "text": [
      "1 es menor a 10\n",
      "3 es menor a 10\n",
      "5 es menor a 10\n",
      "7 es menor a 10\n",
      "9 es menor a 10\n"
     ]
    }
   ],
   "source": [
    "x = 0\n",
    "while x < 10:\n",
    "    if (x % 2) == 0:\n",
    "        x += 1\n",
    "        continue\n",
    "    print(f\"{x} es menor a 10\")\n",
    "    x += 1"
   ]
  },
  {
   "cell_type": "code",
   "execution_count": 31,
   "id": "7f1e92f2-de82-4f72-b6a3-6967a0af48bd",
   "metadata": {},
   "outputs": [
    {
     "name": "stdout",
     "output_type": "stream",
     "text": [
      "3.12\n"
     ]
    }
   ],
   "source": [
    "y = 3.12345\n",
    "print(f\"{y:.02f}\")"
   ]
  },
  {
   "cell_type": "markdown",
   "id": "186719bf-44d9-491c-bd43-3100240ce710",
   "metadata": {},
   "source": [
    "## Iteraciones\n",
    "\n",
    "Forma general:\n",
    "\n",
    "```\n",
    "for item in collection:\n",
    "    instr...\n",
    "```"
   ]
  },
  {
   "cell_type": "code",
   "execution_count": 32,
   "id": "6930b76d-40d3-435e-b7f7-2f57e7c06510",
   "metadata": {},
   "outputs": [
    {
     "name": "stdout",
     "output_type": "stream",
     "text": [
      "0 es menor a 10\n",
      "1 es menor a 10\n",
      "2 es menor a 10\n",
      "3 es menor a 10\n",
      "4 es menor a 10\n",
      "5 es menor a 10\n",
      "6 es menor a 10\n",
      "7 es menor a 10\n",
      "8 es menor a 10\n",
      "9 es menor a 10\n"
     ]
    }
   ],
   "source": [
    "for x in range(10):\n",
    "    print(f\"{x} es menor a 10\")"
   ]
  },
  {
   "cell_type": "code",
   "execution_count": 33,
   "id": "9b150a2c-d01b-4666-9b9b-be1c5609f2ee",
   "metadata": {},
   "outputs": [
    {
     "name": "stdout",
     "output_type": "stream",
     "text": [
      "0\n",
      "1\n",
      "2\n",
      "4\n"
     ]
    }
   ],
   "source": [
    "for x in range(10):\n",
    "    if x == 3:\n",
    "        continue\n",
    "    if x == 5:\n",
    "        break\n",
    "    print(x)"
   ]
  },
  {
   "cell_type": "markdown",
   "id": "76fc7afa-1d44-4f7e-8c68-8c37bf15e75a",
   "metadata": {},
   "source": [
    "Veamos como contar la cantidad de palabras en un documento."
   ]
  },
  {
   "cell_type": "code",
   "execution_count": 82,
   "id": "6583849f-f97d-4b34-924e-332e559732fe",
   "metadata": {},
   "outputs": [],
   "source": [
    "from pprint import pprint\n",
    "\n",
    "def aiw_wc():\n",
    "    with open('./data/aiw.txt', 'rt', encoding = 'utf-8') as book:\n",
    "        book.read(1399)\n",
    "        words = book.read().split()\n",
    "        word_counts = {}\n",
    "        for word in words:\n",
    "            if word in word_counts:\n",
    "                word_counts[word] += 1\n",
    "            else:\n",
    "                word_counts[word] = 1\n",
    "        return word_counts"
   ]
  },
  {
   "cell_type": "code",
   "execution_count": 83,
   "id": "490a9109-cdfd-4b69-9348-93b01d31446e",
   "metadata": {},
   "outputs": [],
   "source": [
    "wc = aiw_wc()"
   ]
  },
  {
   "cell_type": "code",
   "execution_count": 56,
   "id": "555aaaa7-0c0c-4db1-9959-f33bac462f1c",
   "metadata": {},
   "outputs": [
    {
     "data": {
      "text/plain": [
       "'C:\\\\Users\\\\oaiza\\\\OneDrive\\\\Documentos\\\\PCD Python\\\\pcd'"
      ]
     },
     "execution_count": 56,
     "metadata": {},
     "output_type": "execute_result"
    }
   ],
   "source": [
    "%pwd"
   ]
  },
  {
   "cell_type": "markdown",
   "id": "9b386c5a-8b58-4623-809c-cb4dd77607f2",
   "metadata": {},
   "source": [
    "Podemos obtener el top 20 palabras más frecuentes"
   ]
  },
  {
   "cell_type": "code",
   "execution_count": 84,
   "id": "c89c2aad-6e3e-44e5-9340-5d63ee69a7c6",
   "metadata": {},
   "outputs": [],
   "source": [
    "top = sorted(wc.items(), reverse=True, key=lambda x: x[1])"
   ]
  },
  {
   "cell_type": "code",
   "execution_count": 85,
   "id": "a1a78f31-edb3-467f-9cbd-2bcb048e976d",
   "metadata": {},
   "outputs": [
    {
     "data": {
      "text/plain": [
       "[('the', 1673),\n",
       " ('and', 778),\n",
       " ('to', 777),\n",
       " ('a', 664),\n",
       " ('of', 599),\n",
       " ('she', 485),\n",
       " ('said', 416),\n",
       " ('in', 400),\n",
       " ('it', 355),\n",
       " ('was', 329),\n",
       " ('you', 303),\n",
       " ('I', 249),\n",
       " ('as', 246),\n",
       " ('that', 225),\n",
       " ('Alice', 221),\n",
       " ('with', 212),\n",
       " ('at', 207),\n",
       " ('her', 204),\n",
       " ('had', 176),\n",
       " ('all', 169)]"
      ]
     },
     "execution_count": 85,
     "metadata": {},
     "output_type": "execute_result"
    }
   ],
   "source": [
    "top[:20]"
   ]
  },
  {
   "cell_type": "code",
   "execution_count": 86,
   "id": "2297e288-f0ea-4161-ace6-8760c1faefe7",
   "metadata": {},
   "outputs": [
    {
     "name": "stdout",
     "output_type": "stream",
     "text": [
      "8.26 ms ± 201 µs per loop (mean ± std. dev. of 7 runs, 100 loops each)\n"
     ]
    }
   ],
   "source": [
    "%%timeit\n",
    "wc = aiw_wc()\n",
    "top = sorted(wc.items(), reverse=True, key=lambda x: x[1])\n",
    "top[:20]"
   ]
  },
  {
   "cell_type": "markdown",
   "id": "9a5b6d9c-31b7-44ed-a2ba-e3f71d0c1e98",
   "metadata": {},
   "source": [
    "Hay formas más simples y eficientes de hacer eso, comparemos el código anterior con las siguientes propuestas:"
   ]
  },
  {
   "cell_type": "code",
   "execution_count": 94,
   "id": "8772b705-4e39-4aa1-a559-bc1bd8b27ad3",
   "metadata": {},
   "outputs": [],
   "source": [
    "from collections import defaultdict\n",
    "\n",
    "def aiw_wc():\n",
    "    with open('./data/aiw.txt', 'rt', encoding = 'utf-8') as book:\n",
    "        book.read(1399)\n",
    "        words = book.read().split()\n",
    "        word_counts = defaultdict(int)\n",
    "        for word in words:\n",
    "            word_counts[word] += 1\n",
    "        return word_counts"
   ]
  },
  {
   "cell_type": "code",
   "execution_count": 95,
   "id": "ae076b1d-bb24-4373-8d67-fd1e6e6bde68",
   "metadata": {},
   "outputs": [
    {
     "name": "stdout",
     "output_type": "stream",
     "text": [
      "8.25 ms ± 285 µs per loop (mean ± std. dev. of 7 runs, 100 loops each)\n"
     ]
    }
   ],
   "source": [
    "%%timeit\n",
    "wc = aiw_wc()\n",
    "top = sorted(wc.items(), reverse=True, key=lambda x: x[1])\n",
    "top[:20]"
   ]
  },
  {
   "cell_type": "code",
   "execution_count": 92,
   "id": "bf471e8c-728c-4b4e-8164-2b6d4152ba5f",
   "metadata": {},
   "outputs": [],
   "source": [
    "from collections import Counter\n",
    "\n",
    "def aiw_wc():\n",
    "    with open('./data/aiw.txt', 'rt', encoding = 'utf-8') as book:\n",
    "        book.read(1399)\n",
    "        return Counter(book.read().split())"
   ]
  },
  {
   "cell_type": "code",
   "execution_count": 93,
   "id": "fb18d799-d7f8-4738-88e8-5c4a1a0d164f",
   "metadata": {},
   "outputs": [
    {
     "name": "stdout",
     "output_type": "stream",
     "text": [
      "6.25 ms ± 162 µs per loop (mean ± std. dev. of 7 runs, 100 loops each)\n"
     ]
    }
   ],
   "source": [
    "%%timeit\n",
    "wc = aiw_wc()\n",
    "wc.most_common(20)"
   ]
  },
  {
   "cell_type": "markdown",
   "id": "1af6622b-f1b0-449f-b841-e5d5f2a2cb11",
   "metadata": {},
   "source": [
    "# Problema\n",
    "\n",
    "Escribe un programa con quién jugar [al gato](https://es.wikipedia.org/wiki/Tres_en_l%C3%ADnea).\n",
    "Puedes representar el estado del juego con una lista con valores que codifican las marcas: 0 para casillas vacías, 1 para las cruces, 2 para los círculos.\n",
    "Puedes recibir la jugada desde el teclado usando `input`."
   ]
  },
  {
   "cell_type": "markdown",
   "id": "f53b5286-c26f-4947-adfb-87844310f76f",
   "metadata": {},
   "source": [
    "La siguiente función permite imprimir a pantalla el estado del juego."
   ]
  },
  {
   "cell_type": "code",
   "execution_count": 2,
   "id": "7ab2f9f4-a91d-4ba8-8fcf-313355dd793c",
   "metadata": {},
   "outputs": [],
   "source": [
    "import random"
   ]
  },
  {
   "cell_type": "code",
   "execution_count": 3,
   "id": "48e6fdf3-7f7c-4d41-be39-d10eae6dee46",
   "metadata": {},
   "outputs": [],
   "source": [
    "def cell_char(x):\n",
    "    if x == 1:\n",
    "        return \"x\"\n",
    "    if x == 2:\n",
    "        return \"o\"\n",
    "    return \" \"\n",
    "\n",
    "def print_state(s):\n",
    "    c = [cell_char(x) for x in s]\n",
    "    print(\"    A   B   C  \")\n",
    "    print(\"  ┏━━━┯━━━┯━━━┓\")\n",
    "    print(\"1 ┃ {} │ {} │ {} ┃\".format(c[0], c[1], c[2]))\n",
    "    print(\"  ┠───┼───┼───┨\")\n",
    "    print(\"2 ┃ {} │ {} │ {} ┃\".format(c[3], c[4], c[5]))\n",
    "    print(\"  ┠───┼───┼───┨\")\n",
    "    print(\"3 ┃ {} │ {} │ {} ┃\".format(c[6], c[7], c[8]))\n",
    "    print(\"  ┗━━━┷━━━┷━━━┛\")"
   ]
  },
  {
   "cell_type": "code",
   "execution_count": 4,
   "id": "7d159e6e-e4b2-47d9-a960-0e0a8f6bfc94",
   "metadata": {},
   "outputs": [
    {
     "name": "stdout",
     "output_type": "stream",
     "text": [
      "    A   B   C  \n",
      "  ┏━━━┯━━━┯━━━┓\n",
      "1 ┃   │   │   ┃\n",
      "  ┠───┼───┼───┨\n",
      "2 ┃   │   │   ┃\n",
      "  ┠───┼───┼───┨\n",
      "3 ┃   │   │   ┃\n",
      "  ┗━━━┷━━━┷━━━┛\n"
     ]
    }
   ],
   "source": [
    "print_state([0, 0, 0, 0, 0, 0, 0, 0, 0])"
   ]
  },
  {
   "cell_type": "markdown",
   "id": "2b2eccd3-82cc-4389-af9f-19c6cc835a93",
   "metadata": {},
   "source": [
    "El siguiente fragmento de código puede servir como plantilla para el juego"
   ]
  },
  {
   "cell_type": "code",
   "execution_count": 5,
   "id": "93d2606c-8690-4790-a48b-9c977cbc7220",
   "metadata": {},
   "outputs": [],
   "source": [
    "def init_state():\n",
    "    '''Function to initialize the movements vector to 0, meaning an empty game'''\n",
    "    return [0] *9"
   ]
  },
  {
   "cell_type": "code",
   "execution_count": 6,
   "id": "8b85c625-f4b6-48ef-b083-b37847c78e4b",
   "metadata": {},
   "outputs": [],
   "source": [
    "def some_void(coll, pred = lambda x: x == 0):\n",
    "    \"\"\"Regresa True si pred(elt) es verdadero para algún elt en coll.\"\"\"\n",
    "    return next((True for elt in coll if pred(elt)), False)"
   ]
  },
  {
   "cell_type": "code",
   "execution_count": 7,
   "id": "cf47dbbf-bac2-4c75-95c6-14dce2f38709",
   "metadata": {},
   "outputs": [
    {
     "data": {
      "text/plain": [
       "True"
      ]
     },
     "execution_count": 7,
     "metadata": {},
     "output_type": "execute_result"
    }
   ],
   "source": [
    "some_void([1, 0, 2, 1, 2])"
   ]
  },
  {
   "cell_type": "code",
   "execution_count": 8,
   "id": "955b6235-44ae-4697-b06c-81ceb85cbe90",
   "metadata": {},
   "outputs": [],
   "source": [
    "def three_in_a_row(s):\n",
    "    '''Function to determine if we have a winner'''\n",
    "    \n",
    "    # First we check for 3-in-row\n",
    "    if((s[0] == 1 and s[1] == 1 and s[2] == 1) or (s[0] == 2 and s[1] == 2 and s[2] == 2)):\n",
    "        return True\n",
    "    elif((s[3] == 1 and s[4] == 1 and s[5] == 1) or (s[3] == 2 and s[4] == 2 and s[5] == 2)):\n",
    "        return True\n",
    "    elif((s[6] == 1 and s[7] == 1 and s[8] == 1) or (s[6] == 2 and s[7] == 2 and s[8] == 2)):\n",
    "        return True\n",
    "    \n",
    "    # Then we check for 3-in-col\n",
    "    elif((s[0] == 1 and s[3] == 1 and s[6] == 1) or (s[0] == 2 and s[3] == 2 and s[6] == 2)):\n",
    "        return True\n",
    "    elif((s[1] == 1 and s[4] == 1 and s[7] == 1) or (s[1] == 2 and s[4] == 2 and s[7] == 2)):\n",
    "        return True\n",
    "    elif((s[2] == 1 and s[5] == 1 and s[8] == 1) or (s[2] == 2 and s[5] == 2 and s[8] == 2)):\n",
    "        return True\n",
    "    \n",
    "    # Finally we check for 3-in-diag\n",
    "    elif((s[0] == 1 and s[4] == 1 and s[8] == 1) or (s[0] == 2 and s[4] == 2 and s[8] == 2)):\n",
    "        return True\n",
    "    elif((s[2] == 1 and s[4] == 1 and s[6] == 1) or (s[2] == 2 and s[4] == 2 and s[6] == 2)):\n",
    "        return True\n",
    "    \n",
    "    # If nothing is found we keep playing\n",
    "    else:\n",
    "        return False"
   ]
  },
  {
   "cell_type": "code",
   "execution_count": 48,
   "id": "8c458ad8-f8d6-4641-8fc8-06ae278df6be",
   "metadata": {},
   "outputs": [
    {
     "data": {
      "text/plain": [
       "True"
      ]
     },
     "execution_count": 48,
     "metadata": {},
     "output_type": "execute_result"
    }
   ],
   "source": [
    "three_in_a_row([1,1,1,\n",
    "                2,1,0,\n",
    "                1,2,2])"
   ]
  },
  {
   "cell_type": "code",
   "execution_count": 49,
   "id": "fead367b-7a94-444b-a18a-dd78a95173cd",
   "metadata": {},
   "outputs": [],
   "source": [
    "def is_final_state(s):\n",
    "    '''Function to determine if the game is over'''\n",
    "    \n",
    "    # First we check if have any empty spaces, if not is Game Over!\n",
    "    if some_void(s):\n",
    "\n",
    "        # If we have empty spaces but find a Tic-Tac-Toe, the Game is Over!\n",
    "        if three_in_a_row(s):\n",
    "            print(\"FELICIDADES GANASTE!!\")\n",
    "            return True\n",
    "        \n",
    "        # If we have empty spaces and no winner keep playing\n",
    "        else: return False\n",
    "    \n",
    "    else:\n",
    "        # If we have no empty spaces and find a Tic-Tac-Toe, the Game is Over!\n",
    "        if three_in_a_row(s):\n",
    "            print(\"FELICIDADES GANASTE!!\")\n",
    "            return True\n",
    "        else:\n",
    "            print(\"ES UN EMPATE!\")\n",
    "            return True"
   ]
  },
  {
   "cell_type": "code",
   "execution_count": 36,
   "id": "3a38b834-9338-4bab-87a4-224ad6d102de",
   "metadata": {},
   "outputs": [],
   "source": [
    "def ask_action(s):\n",
    "    '''Function to ask for the player next movement'''\n",
    "    pos = -1\n",
    "    while (pos < 0) or (pos > 8) or (s[pos]!=0):\n",
    "        pos = int(input('Chose your next position: '))\n",
    "        if (pos < 0) or (pos > 8) or (s[pos]!=0):\n",
    "            print('Please enter a valid cell!')\n",
    "    return pos"
   ]
  },
  {
   "cell_type": "code",
   "execution_count": 28,
   "id": "966dcb5f-4cc9-4cb7-b2f2-3dc243167f7c",
   "metadata": {},
   "outputs": [
    {
     "name": "stdin",
     "output_type": "stream",
     "text": [
      "Chose your next position:  4\n"
     ]
    },
    {
     "data": {
      "text/plain": [
       "4"
      ]
     },
     "execution_count": 28,
     "metadata": {},
     "output_type": "execute_result"
    }
   ],
   "source": [
    "ask_action([0,0,0,0,0,0,0,0,0])"
   ]
  },
  {
   "cell_type": "code",
   "execution_count": 37,
   "id": "d954a78e-366a-4483-a905-f56609cad9e3",
   "metadata": {},
   "outputs": [],
   "source": [
    "def choose_action(s):\n",
    "    '''Function to choose a computer next movement'''\n",
    "    rand_ind = 10\n",
    "    while (rand_ind < 0) or (rand_ind > 8):\n",
    "        rand_ind = random.randrange(len(s))\n",
    "        if s[rand_ind] == 0:\n",
    "            return rand_ind\n",
    "        else:\n",
    "            rand_ind = 10"
   ]
  },
  {
   "cell_type": "code",
   "execution_count": 38,
   "id": "e68a09ef-606d-41d1-916f-bd0818b6d233",
   "metadata": {},
   "outputs": [
    {
     "data": {
      "text/plain": [
       "6"
      ]
     },
     "execution_count": 38,
     "metadata": {},
     "output_type": "execute_result"
    }
   ],
   "source": [
    "choose_action([0,0,0,0,0,0,0,0,0])"
   ]
  },
  {
   "cell_type": "code",
   "execution_count": 39,
   "id": "0f4e4262-9bab-479b-82e6-25908711c375",
   "metadata": {},
   "outputs": [],
   "source": [
    "def next_state(s, m, player):\n",
    "    '''Function to change state'''\n",
    "    if player == 1:\n",
    "        s[m] = 1\n",
    "    else:\n",
    "        s[m] = 2\n",
    "    return s"
   ]
  },
  {
   "cell_type": "code",
   "execution_count": 40,
   "id": "a007c6f4-b187-4231-9fde-bd0df5275892",
   "metadata": {},
   "outputs": [],
   "source": [
    "def next_player(player):\n",
    "    player = player % 2 + 1\n",
    "    return player"
   ]
  },
  {
   "cell_type": "code",
   "execution_count": 41,
   "id": "8c1c0370-c06d-4b22-9394-b8957a3d9aad",
   "metadata": {},
   "outputs": [
    {
     "data": {
      "text/plain": [
       "1"
      ]
     },
     "execution_count": 41,
     "metadata": {},
     "output_type": "execute_result"
    }
   ],
   "source": [
    "next_player(2)"
   ]
  },
  {
   "cell_type": "code",
   "execution_count": 42,
   "id": "9a6fa8f1-9bd7-4f0a-b508-7252cbb9d366",
   "metadata": {},
   "outputs": [],
   "source": [
    "def tic_tac_toe():\n",
    "    s = init_state()\n",
    "    print(\"EL GATO™\")\n",
    "    player = 1\n",
    "    while not is_final_state(s):\n",
    "        print_state(s)\n",
    "        m = ask_action(s) if player == 1 else choose_action(s)\n",
    "        s = next_state(s, m, player)\n",
    "        player = next_player(player)\n",
    "        print_state(s)\n",
    "    "
   ]
  },
  {
   "cell_type": "code",
   "execution_count": 51,
   "id": "42cee41c-2939-4674-99c5-1f3b9f92201a",
   "metadata": {},
   "outputs": [
    {
     "name": "stdout",
     "output_type": "stream",
     "text": [
      "EL GATO™\n",
      "    A   B   C  \n",
      "  ┏━━━┯━━━┯━━━┓\n",
      "1 ┃   │   │   ┃\n",
      "  ┠───┼───┼───┨\n",
      "2 ┃   │   │   ┃\n",
      "  ┠───┼───┼───┨\n",
      "3 ┃   │   │   ┃\n",
      "  ┗━━━┷━━━┷━━━┛\n"
     ]
    },
    {
     "name": "stdin",
     "output_type": "stream",
     "text": [
      "Chose your next position:  0\n"
     ]
    },
    {
     "name": "stdout",
     "output_type": "stream",
     "text": [
      "    A   B   C  \n",
      "  ┏━━━┯━━━┯━━━┓\n",
      "1 ┃ x │   │   ┃\n",
      "  ┠───┼───┼───┨\n",
      "2 ┃   │   │   ┃\n",
      "  ┠───┼───┼───┨\n",
      "3 ┃   │   │   ┃\n",
      "  ┗━━━┷━━━┷━━━┛\n",
      "    A   B   C  \n",
      "  ┏━━━┯━━━┯━━━┓\n",
      "1 ┃ x │ o │   ┃\n",
      "  ┠───┼───┼───┨\n",
      "2 ┃   │   │   ┃\n",
      "  ┠───┼───┼───┨\n",
      "3 ┃   │   │   ┃\n",
      "  ┗━━━┷━━━┷━━━┛\n"
     ]
    },
    {
     "name": "stdin",
     "output_type": "stream",
     "text": [
      "Chose your next position:  8\n"
     ]
    },
    {
     "name": "stdout",
     "output_type": "stream",
     "text": [
      "    A   B   C  \n",
      "  ┏━━━┯━━━┯━━━┓\n",
      "1 ┃ x │ o │   ┃\n",
      "  ┠───┼───┼───┨\n",
      "2 ┃   │   │   ┃\n",
      "  ┠───┼───┼───┨\n",
      "3 ┃   │   │ x ┃\n",
      "  ┗━━━┷━━━┷━━━┛\n",
      "    A   B   C  \n",
      "  ┏━━━┯━━━┯━━━┓\n",
      "1 ┃ x │ o │   ┃\n",
      "  ┠───┼───┼───┨\n",
      "2 ┃   │   │   ┃\n",
      "  ┠───┼───┼───┨\n",
      "3 ┃ o │   │ x ┃\n",
      "  ┗━━━┷━━━┷━━━┛\n"
     ]
    },
    {
     "name": "stdin",
     "output_type": "stream",
     "text": [
      "Chose your next position:  2\n"
     ]
    },
    {
     "name": "stdout",
     "output_type": "stream",
     "text": [
      "    A   B   C  \n",
      "  ┏━━━┯━━━┯━━━┓\n",
      "1 ┃ x │ o │ x ┃\n",
      "  ┠───┼───┼───┨\n",
      "2 ┃   │   │   ┃\n",
      "  ┠───┼───┼───┨\n",
      "3 ┃ o │   │ x ┃\n",
      "  ┗━━━┷━━━┷━━━┛\n",
      "    A   B   C  \n",
      "  ┏━━━┯━━━┯━━━┓\n",
      "1 ┃ x │ o │ x ┃\n",
      "  ┠───┼───┼───┨\n",
      "2 ┃   │   │ o ┃\n",
      "  ┠───┼───┼───┨\n",
      "3 ┃ o │   │ x ┃\n",
      "  ┗━━━┷━━━┷━━━┛\n"
     ]
    },
    {
     "name": "stdin",
     "output_type": "stream",
     "text": [
      "Chose your next position:  3\n"
     ]
    },
    {
     "name": "stdout",
     "output_type": "stream",
     "text": [
      "    A   B   C  \n",
      "  ┏━━━┯━━━┯━━━┓\n",
      "1 ┃ x │ o │ x ┃\n",
      "  ┠───┼───┼───┨\n",
      "2 ┃ x │   │ o ┃\n",
      "  ┠───┼───┼───┨\n",
      "3 ┃ o │   │ x ┃\n",
      "  ┗━━━┷━━━┷━━━┛\n",
      "    A   B   C  \n",
      "  ┏━━━┯━━━┯━━━┓\n",
      "1 ┃ x │ o │ x ┃\n",
      "  ┠───┼───┼───┨\n",
      "2 ┃ x │   │ o ┃\n",
      "  ┠───┼───┼───┨\n",
      "3 ┃ o │ o │ x ┃\n",
      "  ┗━━━┷━━━┷━━━┛\n"
     ]
    },
    {
     "name": "stdin",
     "output_type": "stream",
     "text": [
      "Chose your next position:  4\n"
     ]
    },
    {
     "name": "stdout",
     "output_type": "stream",
     "text": [
      "FELICIDADES GANASTE!!\n",
      "    A   B   C  \n",
      "  ┏━━━┯━━━┯━━━┓\n",
      "1 ┃ x │ o │ x ┃\n",
      "  ┠───┼───┼───┨\n",
      "2 ┃ x │ x │ o ┃\n",
      "  ┠───┼───┼───┨\n",
      "3 ┃ o │ o │ x ┃\n",
      "  ┗━━━┷━━━┷━━━┛\n"
     ]
    }
   ],
   "source": [
    "tic_tac_toe()"
   ]
  }
 ],
 "metadata": {
  "kernelspec": {
   "display_name": "Python 3 (ipykernel)",
   "language": "python",
   "name": "python3"
  },
  "language_info": {
   "codemirror_mode": {
    "name": "ipython",
    "version": 3
   },
   "file_extension": ".py",
   "mimetype": "text/x-python",
   "name": "python",
   "nbconvert_exporter": "python",
   "pygments_lexer": "ipython3",
   "version": "3.10.8"
  }
 },
 "nbformat": 4,
 "nbformat_minor": 5
}
